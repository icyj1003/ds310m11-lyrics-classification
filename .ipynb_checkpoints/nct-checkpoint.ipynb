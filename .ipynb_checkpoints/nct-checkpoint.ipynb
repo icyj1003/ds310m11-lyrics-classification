{
 "cells": [
  {
   "cell_type": "markdown",
   "id": "30fe7c46",
   "metadata": {},
   "source": [
    "# Đọc dữ liệu"
   ]
  },
  {
   "cell_type": "code",
   "execution_count": 1,
   "id": "a16333cf",
   "metadata": {
    "ExecuteTime": {
     "end_time": "2021-11-10T09:06:43.735004Z",
     "start_time": "2021-11-10T09:06:42.880253Z"
    }
   },
   "outputs": [
    {
     "name": "stdout",
     "output_type": "stream",
     "text": [
      "Tokenization took: 68.45 ms\n",
      "Type conversion took: 56.05 ms\n",
      "Parser memory cleanup took: 0.00 ms\n"
     ]
    }
   ],
   "source": [
    "import pandas as pd \n",
    "\n",
    "df = pd.read_csv('./data/nct.csv', verbose=True)"
   ]
  },
  {
   "cell_type": "markdown",
   "id": "4686e728",
   "metadata": {
    "ExecuteTime": {
     "end_time": "2021-11-10T08:21:56.231846Z",
     "start_time": "2021-11-10T08:21:56.220439Z"
    }
   },
   "source": [
    "# Kích thước dữ liệu chưa xử lý"
   ]
  },
  {
   "cell_type": "code",
   "execution_count": 2,
   "id": "cba5e04e",
   "metadata": {
    "ExecuteTime": {
     "end_time": "2021-11-10T09:06:43.750403Z",
     "start_time": "2021-11-10T09:06:43.737496Z"
    }
   },
   "outputs": [
    {
     "name": "stdout",
     "output_type": "stream",
     "text": [
      "Number of lyrics: 6918\n",
      "Number of genres: 7\n",
      "Genres: nhac-tre, tru-tinh, rap-viet, tien-chien, rock-viet, cach-mang, thieu-nhi\n",
      "Number of lyrics in each Genre:\n",
      " nhac-tre      1000\n",
      "tru-tinh      1000\n",
      "rap-viet      1000\n",
      "thieu-nhi     1000\n",
      "rock-viet      998\n",
      "tien-chien     960\n",
      "cach-mang      960\n",
      "Name: genre, dtype: int64\n"
     ]
    }
   ],
   "source": [
    "numLyrics = df.shape[0]\n",
    "\n",
    "listGenres = list(df.genre.unique())\n",
    "\n",
    "numGenres = len(listGenres)\n",
    "\n",
    "print(f'Number of lyrics: {numLyrics}')\n",
    "print(f'Number of genres: {numGenres}')\n",
    "print('Genres:', ', '.join(listGenres))\n",
    "print('Number of lyrics in each Genre:\\n', df['genre'].value_counts())"
   ]
  },
  {
   "cell_type": "markdown",
   "id": "c06c415d",
   "metadata": {},
   "source": [
    "# Kích thước dữ liệu sau khi bỏ dữ liệu khuyết"
   ]
  },
  {
   "cell_type": "code",
   "execution_count": 8,
   "id": "33095150",
   "metadata": {
    "ExecuteTime": {
     "end_time": "2021-11-10T09:09:24.736213Z",
     "start_time": "2021-11-10T09:09:24.694839Z"
    },
    "scrolled": true
   },
   "outputs": [
    {
     "name": "stdout",
     "output_type": "stream",
     "text": [
      "Number of lyrics: 3004\n",
      "Number of genres: 7\n",
      "Genres: nhac-tre, tru-tinh, rap-viet, tien-chien, rock-viet, cach-mang, thieu-nhi\n",
      "Number of lyrics in each Genre:\n",
      " nhac-tre      673\n",
      "rap-viet      642\n",
      "tien-chien    552\n",
      "rock-viet     453\n",
      "tru-tinh      358\n",
      "cach-mang     194\n",
      "thieu-nhi     132\n",
      "Name: genre, dtype: int64\n"
     ]
    }
   ],
   "source": [
    "df[(df['lyric'].str.contains('hiện chưa có')) & (df['lyric'] != None)] = None\n",
    "\n",
    "df.dropna(inplace=True)\n",
    "\n",
    "df.drop_duplicates(subset=['title', 'lyric'] ,inplace=True)\n",
    "\n",
    "numLyrics = df.shape[0]\n",
    "\n",
    "listGenres = list(df.genre.unique())\n",
    "\n",
    "numGenres = len(listGenres)\n",
    "\n",
    "print(f'Number of lyrics: {numLyrics}')\n",
    "print(f'Number of genres: {numGenres}')\n",
    "print('Genres:', ', '.join(listGenres))\n",
    "print('Number of lyrics in each Genre:\\n', df['genre'].value_counts())"
   ]
  },
  {
   "cell_type": "markdown",
   "id": "ace95785",
   "metadata": {},
   "source": [
    "# Lấy ví dụ"
   ]
  },
  {
   "cell_type": "code",
   "execution_count": 9,
   "id": "b6bdb17d",
   "metadata": {
    "ExecuteTime": {
     "end_time": "2021-11-10T09:09:29.767653Z",
     "start_time": "2021-11-10T09:09:29.724969Z"
    },
    "scrolled": false
   },
   "outputs": [
    {
     "data": {
      "application/vnd.jupyter.widget-view+json": {
       "model_id": "ac4402c8bde84a7e8f505196f2c33eae",
       "version_major": 2,
       "version_minor": 0
      },
      "text/plain": [
       "interactive(children=(Dropdown(description='Genre:', options=('nhac-tre', 'tru-tinh', 'rap-viet', 'tien-chien'…"
      ]
     },
     "metadata": {},
     "output_type": "display_data"
    }
   ],
   "source": [
    "from ipywidgets import Dropdown, interact, BoundedIntText\n",
    "\n",
    "pd.set_option('max_colwidth', None)\n",
    "\n",
    "def getSample(genre, numSample):\n",
    "    return df[df['genre'] == genre][['title', 'lyric']].sample(numSample)\n",
    "\n",
    "\n",
    "getSampleOutput = interact(getSample, genre=Dropdown(options=listGenres,\n",
    "         value='nhac-tre', description='Genre:'), numSample=BoundedIntText(min=1, max=20, description='Samples:'))"
   ]
  }
 ],
 "metadata": {
  "hide_input": false,
  "kernelspec": {
   "display_name": "Python 3 (ipykernel)",
   "language": "python",
   "name": "python3"
  },
  "language_info": {
   "codemirror_mode": {
    "name": "ipython",
    "version": 3
   },
   "file_extension": ".py",
   "mimetype": "text/x-python",
   "name": "python",
   "nbconvert_exporter": "python",
   "pygments_lexer": "ipython3",
   "version": "3.8.12"
  },
  "toc": {
   "base_numbering": 1,
   "nav_menu": {},
   "number_sections": true,
   "sideBar": true,
   "skip_h1_title": false,
   "title_cell": "Table of Contents",
   "title_sidebar": "Contents",
   "toc_cell": false,
   "toc_position": {
    "height": "calc(100% - 180px)",
    "left": "10px",
    "top": "150px",
    "width": "384px"
   },
   "toc_section_display": true,
   "toc_window_display": true
  }
 },
 "nbformat": 4,
 "nbformat_minor": 5
}
